{
 "cells": [
  {
   "cell_type": "code",
   "execution_count": null,
   "metadata": {},
   "outputs": [],
   "source": [
    "# Licensed under the Apache License, Version 2.0 (the \"License\");\n",
    "# you may not use this file except in compliance with the License.\n",
    "# You may obtain a copy of the License at\n",
    "#\n",
    "#      http://www.apache.org/licenses/LICENSE-2.0\n",
    "#\n",
    "# Unless required by applicable law or agreed to in writing, software\n",
    "# distributed under the License is distributed on an \"AS IS\" BASIS,\n",
    "# WITHOUT WARRANTIES OR CONDITIONS OF ANY KIND, either express or implied.\n",
    "# See the License for the specific language governing permissions and\n",
    "# limitations under the License."
   ]
  },
  {
   "cell_type": "code",
   "execution_count": null,
   "metadata": {},
   "outputs": [],
   "source": [
    "#Lets provide some insight into PO.DAAC impact metrics \n",
    "#in Elseviers SCOPUS service"
   ]
  },
  {
   "cell_type": "code",
   "execution_count": null,
   "metadata": {},
   "outputs": [],
   "source": [
    "#First lets import the libraries we require\n",
    "from pprint import pprint\n",
    "import podaac.podaac as podaac\n",
    "import podaac.podaac_utils as utils"
   ]
  },
  {
   "cell_type": "code",
   "execution_count": null,
   "metadata": {},
   "outputs": [],
   "source": [
    "#Then we can create instances of the classes we will use\n",
    "p = podaac.Podaac()\n",
    "u = utils.PodaacUtils()"
   ]
  },
  {
   "cell_type": "code",
   "execution_count": null,
   "metadata": {},
   "outputs": [],
   "source": [
    "#Print a list of dataset short names\n",
    "print('\\nHeres list_all_available_granule_search_dataset_short_names()')\n",
    "result = u.list_all_available_granule_search_dataset_short_names()\n",
    "dsetShortName = [i for i in result]\n",
    "print(dsetShortName)\n",
    "print(len(result))"
   ]
  },
  {
   "cell_type": "code",
   "execution_count": null,
   "metadata": {},
   "outputs": [],
   "source": [
    "#dataset_landing_pages = []\n",
    "#Perform a landing page search on each dataset, note this can take some time as we are querying >600 times\n",
    "#for ds in dsetShortName:\n",
    "#    result = p.dataset_search(short_name=ds)\n",
    "#    #Cache the dataset landing page URL\n",
    "#    searchStr = 'http://podaac.jpl.nasa.gov/dataset/'\n",
    "#    for i in result.strip().split():\n",
    "#        if searchStr in i:\n",
    "#            dataset_landing_pages.append(str(i))\n",
    "#print(dataset_landing_pages)"
   ]
  },
  {
   "cell_type": "code",
   "execution_count": null,
   "metadata": {},
   "outputs": [],
   "source": [
    "from bs4 import BeautifulSoup\n",
    "dois = []\n",
    "#Perform a doi search on each dataset, note this can take some time as we are querying >600 times\n",
    "for ds in dsetShortName:\n",
    "    try:\n",
    "        result = p.dataset_search(short_name=ds, full='True')\n",
    "    except Exception:\n",
    "        print('Error retrieving record for ' + ds)\n",
    "    soup = BeautifulSoup(result, 'html.parser')\n",
    "    doi_element = soup.find('podaac:datasetdoi', text=True)\n",
    "    if doi_element is not None:\n",
    "        doi = doi_element.text #do not include 'https://doi.org/' prefix as it eventually makes search less accurate and increases runtime\n",
    "        dois.append(doi)\n",
    "print(dois)"
   ]
  },
  {
   "cell_type": "code",
   "execution_count": null,
   "metadata": {},
   "outputs": [],
   "source": [
    "print(len(dois))"
   ]
  },
  {
   "cell_type": "code",
   "execution_count": null,
   "metadata": {},
   "outputs": [],
   "source": [
    "import json\n",
    "import requests\n",
    "data = []\n",
    "#Using Elsevier's Scopus Search, lets see if we can \n",
    "#retreieve any information from the above dataset dois\n",
    "for doi in dois:\n",
    "    url = 'https://api.elsevier.com/content/search/scopus?query=ALL:' + doi + '&APIKey=715b412c00f0b95e918a3e7abe6e6ee4'\n",
    "    try:\n",
    "        metadata = requests.get(url)\n",
    "        status_codes = [404, 400, 503, 408]\n",
    "        if metadata.status_code in status_codes:\n",
    "            metadata.raise_for_status()\n",
    "    except requests.exceptions.HTTPError as error:\n",
    "        print(error)\n",
    "        raise\n",
    "    json_data = json.loads(metadata.text)\n",
    "    entries = json_data['search-results']['entry']\n",
    "    for entry in entries:\n",
    "        if 'error' not in entry:\n",
    "            print(entry)\n",
    "            try:\n",
    "                prism_doi = entry['prism:doi']\n",
    "            except KeyError:\n",
    "                prism_doi = '.'               \n",
    "            data.append(['.', '.', entry['dc:title'], entry['prism:publicationName'], entry['citedby-count'], entry['prism:url'], prism_doi, '.', '.', '.', '.', '.', '.', '.', '.'])"
   ]
  },
  {
   "cell_type": "code",
   "execution_count": null,
   "metadata": {},
   "outputs": [],
   "source": [
    "#Again, using Elsevier's Scopus Search, lets see other podaac.jpl.nasa.gov resource we can retreive.\n",
    "url = 'https://api.elsevier.com/content/search/scopus?query=ALL:podaac.jpl.nasa.gov&APIKey=715b412c00f0b95e918a3e7abe6e6ee4'\n",
    "try:\n",
    "    metadata = requests.get(url)\n",
    "    status_codes = [404, 400, 503, 408]\n",
    "    if metadata.status_code in status_codes:\n",
    "        metadata.raise_for_status()\n",
    "except requests.exceptions.HTTPError as error:\n",
    "    print(error)\n",
    "    raise\n",
    "json_data = json.loads(metadata.text)\n",
    "entries = json_data['search-results']['entry']\n",
    "for entry in entries:\n",
    "    data.append(['.', '.', entry['dc:title'], entry['prism:publicationName'], entry['citedby-count'], entry['prism:url'], entry['prism:doi'], '.', '.', '.', '.', '.', '.', '.', '.'])"
   ]
  },
  {
   "cell_type": "code",
   "execution_count": null,
   "metadata": {},
   "outputs": [],
   "source": [
    "import pandas as pd\n",
    "#Simply print the data as a pandas data frame\n",
    "pd.DataFrame(data, columns=[\"Dataset Name as Cited in Article\", \"PERSISTENT_ID\", \"Manuscript Title\", \"Journal Source\", \"Impact factor of the Manuscript\", \"Article URL\", \"DOI\", \"PDF Name\", \"In-Text\", \"In-Text 2\", \"Referenced\", \"Referenced 2\", \"In-Text\", \"Referenced\", \"Confirmed\"])"
   ]
  },
  {
   "cell_type": "code",
   "execution_count": null,
   "metadata": {},
   "outputs": [],
   "source": []
  }
 ],
 "metadata": {
  "kernelspec": {
   "display_name": "Python 3",
   "language": "python",
   "name": "python3"
  },
  "language_info": {
   "codemirror_mode": {
    "name": "ipython",
    "version": 3
   },
   "file_extension": ".py",
   "mimetype": "text/x-python",
   "name": "python",
   "nbconvert_exporter": "python",
   "pygments_lexer": "ipython3",
   "version": "3.6.5"
  }
 },
 "nbformat": 4,
 "nbformat_minor": 2
}
