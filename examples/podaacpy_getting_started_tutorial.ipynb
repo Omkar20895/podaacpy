{
 "cells": [
  {
   "cell_type": "code",
   "execution_count": null,
   "metadata": {
    "collapsed": true
   },
   "outputs": [],
   "source": [
    "##################\n",
    "# Imports        #\n",
    "##################\n",
    "# import the podaac package\n",
    "import podaac.podaac as podaac\n",
    "# import the podaac_utils package\n",
    "import podaac.podaac_utils as utils\n",
    "# import the mcc package\n",
    "import podaac.mcc as mcc\n",
    "\n",
    "#######################\n",
    "# Class instantiation #\n",
    "#######################\n",
    "# then create an instance of the Podaac class\n",
    "p = podaac.Podaac()\n",
    "# then create an instance of the PodaacUtils class\n",
    "u = utils.PodaacUtils()\n",
    "# then create an instance of the MCC class\n",
    "m = mcc.MCC()"
   ]
  },
  {
   "cell_type": "code",
   "execution_count": null,
   "metadata": {
    "collapsed": true
   },
   "outputs": [],
   "source": [
    "###########################################\n",
    "# Lets look at some convenience functions #\n",
    "###########################################\n",
    "print(u.list_available_extract_granule_dataset_ids())"
   ]
  },
  {
   "cell_type": "code",
   "execution_count": null,
   "metadata": {
    "collapsed": true
   },
   "outputs": [],
   "source": [
    "print(u.list_available_extract_granule_dataset_short_names())"
   ]
  },
  {
   "cell_type": "code",
   "execution_count": null,
   "metadata": {
    "collapsed": true
   },
   "outputs": [],
   "source": [
    "print(u.list_available_granule_search_dataset_ids())"
   ]
  },
  {
   "cell_type": "code",
   "execution_count": null,
   "metadata": {
    "collapsed": true
   },
   "outputs": [],
   "source": [
    "print(u.list_available_granule_search_dataset_short_names())"
   ]
  },
  {
   "cell_type": "code",
   "execution_count": null,
   "metadata": {
    "collapsed": true
   },
   "outputs": [],
   "source": [
    "print(u.list_available_granule_search_level2_dataset_ids())"
   ]
  },
  {
   "cell_type": "code",
   "execution_count": null,
   "metadata": {
    "collapsed": true
   },
   "outputs": [],
   "source": [
    "print(u.list_available_granule_search_level2_dataset_short_names())"
   ]
  },
  {
   "cell_type": "code",
   "execution_count": null,
   "metadata": {
    "collapsed": true,
    "scrolled": false
   },
   "outputs": [],
   "source": [
    "# Now lets take a look at using the results from above to interact with the PO.DAAC Webservices\n",
    "\n",
    "########################\n",
    "# PO.DAAC Web Services #\n",
    "########################\n",
    "\n",
    "# First lets retrieve dataset metadata\n",
    "print(p.dataset_metadata(dataset_id='PODAAC-GHMG2-2PO01'))"
   ]
  },
  {
   "cell_type": "code",
   "execution_count": null,
   "metadata": {
    "collapsed": true,
    "scrolled": false
   },
   "outputs": [],
   "source": [
    "# Lets try searching for datasets\n",
    "print(p.dataset_search(keyword='modis'))"
   ]
  },
  {
   "cell_type": "code",
   "execution_count": null,
   "metadata": {},
   "outputs": [],
   "source": [
    "# Now retrieve dataset variables\n",
    "print(p.dataset_variables(dataset_id='PODAAC-AQR40-2SOCS'))"
   ]
  },
  {
   "cell_type": "code",
   "execution_count": null,
   "metadata": {},
   "outputs": [],
   "source": [
    "# Now extracting an individual granule\n",
    "print(p.extract_l4_granule(dataset_id='PODAAC-AQR40-2SOCS'))"
   ]
  },
  {
   "cell_type": "code",
   "execution_count": null,
   "metadata": {},
   "outputs": [],
   "source": [
    "# Now retrieving granule metadata\n",
    "print(p.granule_metadata(dataset_id='PODAAC-AQR40-2SOCS'), granule_name='Q2015158111300.L2_SCI_V4.0')"
   ]
  },
  {
   "cell_type": "code",
   "execution_count": null,
   "metadata": {},
   "outputs": [],
   "source": [
    "from IPython.display import Image\n",
    "from IPython.core.display import HTML \n",
    "result = p.granule_preview(dataset_id='PODAAC-AQR40-2SOCS')"
   ]
  },
  {
   "cell_type": "code",
   "execution_count": null,
   "metadata": {
    "collapsed": true
   },
   "outputs": [],
   "source": [
    "# Additionally, we can search metadata for list of granules archived within the last 24 hours in Datacasting format.\n",
    "print(p.load_last24hours_datacasting_granule_md(dataset_Id='PODAAC-GHMG2-2PO01'))"
   ]
  },
  {
   "cell_type": "code",
   "execution_count": null,
   "metadata": {
    "collapsed": true
   },
   "outputs": [],
   "source": [
    "# Now Searching for Granules\n",
    "print(p.search_granule(datasetId='PODAAC-ASOP2-25X01',shortName='ASCATA-L2-25km',bbox='0,0,180,90',startTime='2013-01-01T01:30:00Z',endTime='2014-01-01T00:00:00Z',startIndex='1'))"
   ]
  },
  {
   "cell_type": "code",
   "execution_count": null,
   "metadata": {
    "collapsed": true
   },
   "outputs": [],
   "source": []
  },
  {
   "cell_type": "code",
   "execution_count": null,
   "metadata": {
    "collapsed": true
   },
   "outputs": [],
   "source": [
    "# Finally, lets Exract a granule\n",
    "result = p.extract_granule(shortName='ASCATA-L2-25km', granuleName='ascat_20130719_230600_metopa_35024_eps_o_250_2200_ovw.l2.nc', bbox='-180,-90,180,90', format='netcdf')"
   ]
  },
  {
   "cell_type": "code",
   "execution_count": null,
   "metadata": {
    "collapsed": true
   },
   "outputs": [],
   "source": [
    "######################################################\n",
    "# Working with Metadata Compliance Webservices (mcc) #\n",
    "######################################################\n",
    "\n",
    "# Compliance Check a Local File\n",
    "print(m.check_local_file(acdd_version='1.3', gds2_parameters='L4', file_upload='podaac/ascat_20130719_230600_metopa_35024_eps_o_250_2200_ovw.l2.nc', response='json'))"
   ]
  },
  {
   "cell_type": "code",
   "execution_count": null,
   "metadata": {
    "collapsed": true
   },
   "outputs": [],
   "source": [
    "# Compliance Check a Remote File\n",
    "print(m.check_remote_file(checkers='CF', url_upload='http://test.opendap.org/opendap/data/ncml/agg/dated/CG2006158_120000h_usfc.nc', response='json'))"
   ]
  },
  {
   "cell_type": "code",
   "execution_count": null,
   "metadata": {
    "collapsed": true
   },
   "outputs": [],
   "source": [
    "# Thank you for trying out podaacpy\n",
    "# That concludes the quick start. Hopefully this has been helpful in providing an overview \n",
    "# of the main podaacpy features. If you have any issues with this document then please register \n",
    "# them at the issue tracker - https://github.com/nasa/podaacpy/issues\n",
    "# Please use labels to classify your issue.\n",
    "\n",
    "# Thanks, \n",
    "# Lewis John McGibbney"
   ]
  }
 ],
 "metadata": {
  "kernelspec": {
   "display_name": "Python 3",
   "language": "python",
   "name": "python3"
  },
  "language_info": {
   "codemirror_mode": {
    "name": "ipython",
    "version": 3
   },
   "file_extension": ".py",
   "mimetype": "text/x-python",
   "name": "python",
   "nbconvert_exporter": "python",
   "pygments_lexer": "ipython3",
   "version": "3.6.1"
  }
 },
 "nbformat": 4,
 "nbformat_minor": 1
}
