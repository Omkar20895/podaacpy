{
 "cells": [
  {
   "cell_type": "code",
   "execution_count": null,
   "metadata": {},
   "outputs": [],
   "source": [
    "# Licensed under the Apache License, Version 2.0 (the \"License\");\n",
    "# you may not use this file except in compliance with the License.\n",
    "# You may obtain a copy of the License at\n",
    "#\n",
    "#      http://www.apache.org/licenses/LICENSE-2.0\n",
    "#\n",
    "# Unless required by applicable law or agreed to in writing, software\n",
    "# distributed under the License is distributed on an \"AS IS\" BASIS,\n",
    "# WITHOUT WARRANTIES OR CONDITIONS OF ANY KIND, either express or implied.\n",
    "# See the License for the specific language governing permissions and\n",
    "# limitations under the License."
   ]
  },
  {
   "cell_type": "code",
   "execution_count": null,
   "metadata": {},
   "outputs": [],
   "source": [
    "# In this example we replicate the following workflow using granules from the\n",
    "# MetOp-A ASCAT Level 2 Ocean Surface Wind Vectors Optimized for Coastal Ocean \n",
    "# collection as our subject matter.\n",
    "# * Define time period\n",
    "# * Define spatial bounding box\n",
    "# * Extract all (or just wind speed) variables from available granules\n",
    "# * Aggregate into single netCDF output file\n",
    "# * View aggregation in Panoply"
   ]
  },
  {
   "cell_type": "code",
   "execution_count": null,
   "metadata": {},
   "outputs": [],
   "source": [
    "#First lets import the libraries we require\n",
    "from pprint import pprint\n",
    "from podaac import podaac as podaac\n",
    "from podaac import podaac_utils as utils\n",
    "from podaac import drive as drive"
   ]
  },
  {
   "cell_type": "code",
   "execution_count": null,
   "metadata": {},
   "outputs": [],
   "source": [
    "#Then we can create instances of the classes we will use\n",
    "p = podaac.Podaac()\n",
    "u = utils.PodaacUtils()\n",
    "d = drive.Drive('podaac.ini', None, None)"
   ]
  },
  {
   "cell_type": "code",
   "execution_count": null,
   "metadata": {},
   "outputs": [],
   "source": [
    "# Let's discover PO.DAAC Wind data relating to Hurricane Florence \n",
    "#    https://en.wikipedia.org/wiki/Hurricane_Florence\n",
    "# Using specific parameters to confine the discovery space, we opt for the full \n",
    "# metadata record in atom format\n",
    "ds_result = p.dataset_search(keyword='ASCAT', \n",
    "                             start_time='2018-09-12T00:00:01Z', \n",
    "                             end_time='2018-09-14T11:59:59Z', \n",
    "                             short_name='ASCATA-L2-Coastal', \n",
    "                             process_level='2', \n",
    "                             bbox='-81,28,-67,40', \n",
    "                             pretty='True', \n",
    "                             format='atom', \n",
    "                             full='True')\n",
    "print(ds_result)"
   ]
  },
  {
   "cell_type": "code",
   "execution_count": null,
   "metadata": {},
   "outputs": [],
   "source": [
    "#Because we requested the Full response, we can actually extract the \n",
    "# PO.DAAC Drive URL for all granules contained within this dataset.\n",
    "search_str = 'https://podaac-tools.jpl.nasa.gov/drive/files/'\n",
    "drive_path = [ str(i) for i in ds_result.strip().split() if search_str in i ]\n",
    "print(drive_path)"
   ]
  },
  {
   "cell_type": "code",
   "execution_count": null,
   "metadata": {},
   "outputs": [],
   "source": [
    "#Next, lets search for Granules of interest relating to the above discovery operation\n",
    "#Lets execute a search for specific granules from the following dataset\n",
    "# MetOp-A ASCAT Level 2 Ocean Surface Wind Vectors Optimized for Coastal Ocean\n",
    "# https://podaac.jpl.nasa.gov/dataset/ASCATA-L2-Coastal\n",
    "# ...based upon temporal (start and end) and spatial contraints. \n",
    "result = p.granule_search(dataset_id='PODAAC-ASOP2-12C01',\n",
    "                          start_time='2018-09-12T00:00:01Z',\n",
    "                          end_time='2018-09-14T11:59:59Z',\n",
    "                          bbox='-81,28,-67,40',\n",
    "                          sort_by='timeAsc',\n",
    "                          items_per_page='400',\n",
    "                          format='atom',\n",
    "                          pretty='true')\n",
    "#print(result)\n",
    "searchStr = 'totalResults'\n",
    "numResultsStr = [ str(i) for i in result.strip().split() if searchStr in i ]\n",
    "print(numResultsStr)"
   ]
  },
  {
   "cell_type": "code",
   "execution_count": null,
   "metadata": {},
   "outputs": [],
   "source": [
    "#Here's the actual granule names\n",
    "pprint(u.mine_granules_from_granule_search(granule_search_response=str(result)))"
   ]
  },
  {
   "cell_type": "code",
   "execution_count": null,
   "metadata": {},
   "outputs": [],
   "source": [
    "#Now we simply need to reproduce the Drive URL's for the above granules.\n",
    "granules = d.mine_drive_urls_from_granule_search(granule_search_response=(str(result)))\n",
    "pprint(granules)"
   ]
  },
  {
   "cell_type": "code",
   "execution_count": null,
   "metadata": {},
   "outputs": [],
   "source": [
    "#Finally, let's retrieve these granules from PO.DAAC Drive.\n",
    "#Note that the download_granules function actually decompresses\n",
    "#and removes the compressed archive files locally for us.\n",
    "d.download_granules(granule_collection=granules, path='.')"
   ]
  },
  {
   "cell_type": "code",
   "execution_count": null,
   "metadata": {},
   "outputs": [],
   "source": [
    "#Let's merge the files together\n",
    "import glob, os, subprocess, shlex\n",
    "nc_files = []\n",
    "for file in glob.glob(\"*.nc\"):\n",
    "    nc_files.append(os.path.abspath(file))\n",
    "str_nc_files = ' '.join(nc_files)\n",
    "# Make call to Panoply to open granules.\n",
    "args = shlex.split('/Applications/Panoply.app/Contents/MacOS/Panoply ' + str_nc_files)\n",
    "subprocess.Popen(args)"
   ]
  },
  {
   "cell_type": "code",
   "execution_count": null,
   "metadata": {},
   "outputs": [],
   "source": [
    "#Finally, let's subset the granule using L2SS\n",
    "#and download only the area of interest.\n",
    "from podaac import l2ss as l2ss\n",
    "l = l2ss.L2SS()\n",
    "granule_id = 'ascat_20180913_134800_metopa_61756_eps_o_coa_2401_ovw.l2.nc'\n",
    "query = {\n",
    "            \"email\": \"your_email@here.com\",\n",
    "            \"query\":\n",
    "            [\n",
    "                {\n",
    "                    \"compact\": \"true\",\n",
    "                    \"datasetId\": \"PODAAC-ASOP2-12C01\",\n",
    "                    \"bbox\": \"-81,28,-67,40\",\n",
    "                    \"variables\": [\"lat\", \"lon\", \"time\", \"wind_speed\"],\n",
    "                    \"granuleIds\": [\"ascat_20180913_134800_metopa_61756_eps_o_coa_2401_ovw.l2.nc\"]\n",
    "                }\n",
    "            ]\n",
    "        }\n",
    "l.granule_download(query_string=query)\n",
    "ss_granule = os.path.abspath('subsetted-' + granule_id)\n",
    "print(ss_granule)\n",
    "# Make call to Panoply to open subsetted granule.\n",
    "args = shlex.split('/Applications/Panoply.app/Contents/MacOS/Panoply ' + ss_granule)\n",
    "subprocess.Popen(args)"
   ]
  },
  {
   "cell_type": "code",
   "execution_count": null,
   "metadata": {},
   "outputs": [],
   "source": []
  }
 ],
 "metadata": {
  "kernelspec": {
   "display_name": "Python 3",
   "language": "python",
   "name": "python3"
  },
  "language_info": {
   "codemirror_mode": {
    "name": "ipython",
    "version": 3
   },
   "file_extension": ".py",
   "mimetype": "text/x-python",
   "name": "python",
   "nbconvert_exporter": "python",
   "pygments_lexer": "ipython3",
   "version": "3.6.5"
  }
 },
 "nbformat": 4,
 "nbformat_minor": 2
}
